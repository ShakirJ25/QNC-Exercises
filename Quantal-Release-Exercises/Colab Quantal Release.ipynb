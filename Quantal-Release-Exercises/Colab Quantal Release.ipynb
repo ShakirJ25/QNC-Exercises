{
  "nbformat": 4,
  "nbformat_minor": 0,
  "metadata": {
    "colab": {
      "provenance": [],
      "authorship_tag": "ABX9TyPclyBTYO9fMftcmbtJiZ6P",
      "include_colab_link": true
    },
    "kernelspec": {
      "name": "python3",
      "display_name": "Python 3"
    },
    "language_info": {
      "name": "python"
    }
  },
  "cells": [
    {
      "cell_type": "markdown",
      "metadata": {
        "id": "view-in-github",
        "colab_type": "text"
      },
      "source": [
        "<a href=\"https://colab.research.google.com/github/ShakirJ25/Quantal-Release-Exercises/blob/main/Colab%20Quantal%20Release.ipynb\" target=\"_parent\"><img src=\"https://colab.research.google.com/assets/colab-badge.svg\" alt=\"Open In Colab\"/></a>"
      ]
    },
    {
      "cell_type": "code",
      "execution_count": 3,
      "metadata": {
        "colab": {
          "base_uri": "https://localhost:8080/"
        },
        "id": "9d3l61AoNaBM",
        "outputId": "4c3b510d-c882-4103-ddc6-b8a1628e59da"
      },
      "outputs": [
        {
          "output_type": "stream",
          "name": "stdout",
          "text": [
            "P(0 quanta released) = 0.107374\n",
            "P(1 quanta released) = 0.268435\n",
            "P(2 quanta released) = 0.301990\n",
            "P(3 quanta released) = 0.201327\n",
            "P(4 quanta released) = 0.088080\n",
            "P(5 quanta released) = 0.026424\n",
            "P(6 quanta released) = 0.005505\n",
            "P(7 quanta released) = 0.000786\n",
            "P(8 quanta released) = 0.000074\n",
            "P(9 quanta released) = 0.000004\n",
            "P(10 quanta released) = 0.000000\n"
          ]
        }
      ],
      "source": [
        "# EXERCISE 1\n",
        "import math\n",
        "\n",
        "# parameters\n",
        "n = 10      # total quanta\n",
        "p = 0.2     # probability of release per quantum\n",
        "\n",
        "# compute binomial probabilities\n",
        "probabilities = []\n",
        "for k in range(n + 1):\n",
        "    prob = math.comb(n, k) * (p ** k) * ((1 - p) ** (n - k))\n",
        "    probabilities.append(prob)\n",
        "\n",
        "# print results\n",
        "for k, prob in enumerate(probabilities):\n",
        "    print(f\"P({k} quanta released) = {prob:.6f}\")\n"
      ]
    },
    {
      "cell_type": "code",
      "source": [
        "\n",
        "# EXERCISE 2\n",
        "import math\n",
        "\n",
        "# parameters\n",
        "n = 14   # total quanta\n",
        "k = 8    # observed quanta released\n",
        "\n",
        "# function to compute binomial likelihood\n",
        "def likelihood(n, k, p):\n",
        "    return math.comb(n, k) * (p ** k) * ((1 - p) ** (n - k))\n",
        "\n",
        "# compute likelihood for specific p values\n",
        "p_values = [0.1, 0.7] + [i/10 for i in range(1, 11)]  # 0.1, 0.7, and all deciles 0.1–1.0\n",
        "results = {}\n",
        "\n",
        "for p in p_values:\n",
        "    results[p] = likelihood(n, k, p)\n",
        "\n",
        "# print results\n",
        "for p in sorted(results.keys()):\n",
        "    print(f\"Likelihood of p={p:.1f}: {results[p]:.6e}\")\n",
        "\n",
        "# find maximum likelihood\n",
        "best_p = max(results, key=results.get)\n",
        "print(f\"\\nMaximum likelihood at p={best_p:.1f} with likelihood {results[best_p]:.6e}\")"
      ],
      "metadata": {
        "colab": {
          "base_uri": "https://localhost:8080/"
        },
        "id": "ZwjKf69pNz90",
        "outputId": "efc60a8e-f648-4430-c5a9-2d25f981fe91"
      },
      "execution_count": 4,
      "outputs": [
        {
          "output_type": "stream",
          "name": "stdout",
          "text": [
            "Likelihood of p=0.1: 1.595917e-05\n",
            "Likelihood of p=0.2: 2.015279e-03\n",
            "Likelihood of p=0.3: 2.318001e-02\n",
            "Likelihood of p=0.4: 9.182116e-02\n",
            "Likelihood of p=0.5: 1.832886e-01\n",
            "Likelihood of p=0.6: 2.065976e-01\n",
            "Likelihood of p=0.7: 1.262023e-01\n",
            "Likelihood of p=0.8: 3.224447e-02\n",
            "Likelihood of p=0.9: 1.292693e-03\n",
            "Likelihood of p=1.0: 0.000000e+00\n",
            "\n",
            "Maximum likelihood at p=0.6 with likelihood 2.065976e-01\n"
          ]
        }
      ]
    },
    {
      "cell_type": "code",
      "source": [
        "# EXERCISE 3\n",
        "import math\n",
        "\n",
        "# parameters\n",
        "n = 14\n",
        "observations = [8, 5]  # two experiments: 8 released, then 5 released\n",
        "\n",
        "# likelihood function for a single experiment\n",
        "def likelihood_single(n, k, p):\n",
        "    return math.comb(n, k) * (p ** k) * ((1 - p) ** (n - k))\n",
        "\n",
        "# total likelihood across all observations\n",
        "def total_likelihood(n, observations, p):\n",
        "    L = 1.0\n",
        "    for k in observations:\n",
        "        L *= likelihood_single(n, k, p)\n",
        "    return L\n",
        "\n",
        "# total log-likelihood across all observations\n",
        "def total_log_likelihood(n, observations, p):\n",
        "    logL = 0.0\n",
        "    for k in observations:\n",
        "        Lk = likelihood_single(n, k, p)\n",
        "        if Lk > 0:\n",
        "            logL += math.log(Lk)\n",
        "        else:\n",
        "            return float(\"-inf\")  # avoid log(0)\n",
        "    return logL\n",
        "\n",
        "# check for p = 0.1 (as in the question)\n",
        "p_test = 0.1\n",
        "L_01 = total_likelihood(n, observations, p_test)\n",
        "logL_01 = total_log_likelihood(n, observations, p_test)\n",
        "print(f\"For p={p_test}:\")\n",
        "print(f\"  Total likelihood     = {L_01:.6e}\")\n",
        "print(f\"  Total log-likelihood = {logL_01:.6f}\")\n",
        "\n",
        "# now compute likelihoods for deciles 0.1–1.0\n",
        "p_values = [i/10 for i in range(1, 11)]\n",
        "results = {}\n",
        "for p in p_values:\n",
        "    results[p] = (total_likelihood(n, observations, p),\n",
        "                  total_log_likelihood(n, observations, p))\n",
        "\n",
        "# print results\n",
        "print(\"\\nLikelihoods and log-likelihoods at deciles:\")\n",
        "for p, (L, logL) in results.items():\n",
        "    print(f\"p={p:.1f}:  L={L:.6e},  logL={logL:.6f}\")\n",
        "\n",
        "# find maximum likelihood estimate (MLE)\n",
        "best_p = max(results, key=lambda p: results[p][0])\n",
        "print(f\"\\nMaximum likelihood at p={best_p:.1f}\")\n",
        "\n",
        "# finer grid search (higher resolution, e.g., 0.01 steps)\n",
        "fine_p_values = [i/100 for i in range(1, 100)]\n",
        "fine_results = {p: total_likelihood(n, observations, p) for p in fine_p_values}\n",
        "best_p_fine = max(fine_results, key=fine_results.get)\n",
        "print(f\"Refined MLE (step=0.01): p={best_p_fine:.2f}\")\n",
        "\n",
        "# even finer grid (0.001 steps)\n",
        "finer_p_values = [i/1000 for i in range(1, 1000)]\n",
        "finer_results = {p: total_likelihood(n, observations, p) for p in finer_p_values}\n",
        "best_p_finer = max(finer_results, key=finer_results.get)\n",
        "print(f\"Refined MLE (step=0.001): p={best_p_finer:.3f}\")"
      ],
      "metadata": {
        "colab": {
          "base_uri": "https://localhost:8080/"
        },
        "id": "CC3CnZ44N40H",
        "outputId": "15b7f810-cd88-42c2-eea7-e8e4dd696e90"
      },
      "execution_count": 5,
      "outputs": [
        {
          "output_type": "stream",
          "name": "stdout",
          "text": [
            "For p=0.1:\n",
            "  Total likelihood     = 1.237819e-07\n",
            "  Total log-likelihood = -15.904745\n",
            "\n",
            "Likelihoods and log-likelihoods at deciles:\n",
            "p=0.1:  L=1.237819e-07,  logL=-15.904745\n",
            "p=0.2:  L=1.732843e-04,  logL=-8.660577\n",
            "p=0.3:  L=4.550575e-03,  logL=-5.392502\n",
            "p=0.4:  L=1.897003e-02,  logL=-3.964895\n",
            "p=0.5:  L=2.239647e-02,  logL=-3.798852\n",
            "p=0.6:  L=8.431125e-03,  logL=-4.775825\n",
            "p=0.7:  L=8.358200e-04,  logL=-7.087097\n",
            "p=0.8:  L=1.083027e-05,  logL=-11.433166\n",
            "p=0.9:  L=1.528171e-09,  logL=-20.299194\n",
            "p=1.0:  L=0.000000e+00,  logL=-inf\n",
            "\n",
            "Maximum likelihood at p=0.5\n",
            "Refined MLE (step=0.01): p=0.46\n",
            "Refined MLE (step=0.001): p=0.464\n"
          ]
        }
      ]
    },
    {
      "cell_type": "code",
      "source": [
        "# Exercise 4\n",
        "import math\n",
        "import numpy as np\n",
        "\n",
        "# parameters\n",
        "n = 14  # total quanta per experiment\n",
        "\n",
        "# observed counts (k -> count)\n",
        "counts = {\n",
        "    0: 0, 1: 0, 2: 3, 3: 7, 4: 10,\n",
        "    5: 19, 6: 26, 7: 16, 8: 16, 9: 5,\n",
        "    10: 5, 11: 0, 12: 0, 13: 0, 14: 0\n",
        "}\n",
        "\n",
        "# single observation probability\n",
        "def binom_prob(n, k, p):\n",
        "    return math.comb(n, k) * (p ** k) * ((1 - p) ** (n - k))\n",
        "\n",
        "# total log-likelihood\n",
        "def log_likelihood(n, counts, p):\n",
        "    logL = 0.0\n",
        "    for k, c in counts.items():\n",
        "        if c > 0:\n",
        "            pk = binom_prob(n, k, p)\n",
        "            if pk > 0:\n",
        "                logL += c * math.log(pk)\n",
        "            else:\n",
        "                return float(\"-inf\")  # avoid log(0)\n",
        "    return logL\n",
        "\n",
        "# search over candidate p values with resolution 0.01\n",
        "p_candidates = np.arange(0.01, 1.00, 0.01)\n",
        "logL_values = {p: log_likelihood(n, counts, p) for p in p_candidates}\n",
        "\n",
        "# find maximum likelihood estimate\n",
        "p_hat = max(logL_values, key=logL_values.get)\n",
        "\n",
        "print(f\"Maximum likelihood estimate (p-hat) = {p_hat:.2f}\")\n",
        "print(f\"Log-likelihood at p-hat = {logL_values[p_hat]:.6f}\")"
      ],
      "metadata": {
        "colab": {
          "base_uri": "https://localhost:8080/"
        },
        "id": "3MrHww0dOBxv",
        "outputId": "ce6e58f1-3cd0-474b-988f-20a8920ce0b1"
      },
      "execution_count": 6,
      "outputs": [
        {
          "output_type": "stream",
          "name": "stdout",
          "text": [
            "Maximum likelihood estimate (p-hat) = 0.44\n",
            "Log-likelihood at p-hat = -218.593512\n"
          ]
        }
      ]
    },
    {
      "cell_type": "code",
      "source": [
        "#Exercise 5\n",
        "import math\n",
        "from scipy.stats import binom\n",
        "\n",
        "# Parameters\n",
        "n = 14           # total quanta\n",
        "k_obs = 7        # observed releases\n",
        "p_null = 0.3     # Null hypothesis: true release probability (baseline condition)\n",
        "\n",
        "# Step 1: Compute p-hat (MLE from data)\n",
        "p_hat = k_obs / n\n",
        "\n",
        "# Step 2: Probability of observing exactly k_obs under Null Hypothesis\n",
        "p_value_exact = binom.pmf(k_obs, n, p_null)\n",
        "\n",
        "# Step 3: (Optional) two-sided p-value: probability of observing outcomes\n",
        "# as or more extreme than k_obs, relative to expected mean n*p_null\n",
        "mean_null = n * p_null\n",
        "if k_obs > mean_null:\n",
        "    # probability of k >= k_obs\n",
        "    p_value_twosided = sum(binom.pmf(k, n, p_null) for k in range(k_obs, n + 1))\n",
        "else:\n",
        "    # probability of k <= k_obs\n",
        "    p_value_twosided = sum(binom.pmf(k, n, p_null) for k in range(0, k_obs + 1))\n",
        "\n",
        "# Print results\n",
        "print(f\"Observed p-hat = {p_hat:.3f}\")\n",
        "print(f\"Probability of exactly {k_obs} releases under H0 (p=0.3): {p_value_exact:.5f}\")\n",
        "print(f\"Two-sided p-value under H0: {p_value_twosided:.5f}\")"
      ],
      "metadata": {
        "colab": {
          "base_uri": "https://localhost:8080/"
        },
        "id": "LjTbSHpEOFV-",
        "outputId": "4965f792-fa23-437d-877f-363de8c87941"
      },
      "execution_count": 7,
      "outputs": [
        {
          "output_type": "stream",
          "name": "stdout",
          "text": [
            "Observed p-hat = 0.500\n",
            "Probability of exactly 7 releases under H0 (p=0.3): 0.06181\n",
            "Two-sided p-value under H0: 0.09328\n"
          ]
        }
      ]
    }
  ]
}